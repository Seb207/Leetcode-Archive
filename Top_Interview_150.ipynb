{
  "nbformat": 4,
  "nbformat_minor": 0,
  "metadata": {
    "colab": {
      "provenance": [],
      "authorship_tag": "ABX9TyM4FyGTBmqXYi9oo+Wx8NaO",
      "include_colab_link": true
    },
    "kernelspec": {
      "name": "python3",
      "display_name": "Python 3"
    },
    "language_info": {
      "name": "python"
    }
  },
  "cells": [
    {
      "cell_type": "markdown",
      "metadata": {
        "id": "view-in-github",
        "colab_type": "text"
      },
      "source": [
        "<a href=\"https://colab.research.google.com/github/Seb207/Leetcode-Archive/blob/main/Top_Interview_150.ipynb\" target=\"_parent\"><img src=\"https://colab.research.google.com/assets/colab-badge.svg\" alt=\"Open In Colab\"/></a>"
      ]
    },
    {
      "cell_type": "code",
      "source": [
        "import numpy as np\n",
        "import pandas as pd\n",
        "import matplotlib.pyplot as plt\n",
        "from typing import List"
      ],
      "metadata": {
        "id": "B-CjR-cBh4xd"
      },
      "execution_count": null,
      "outputs": []
    },
    {
      "cell_type": "markdown",
      "source": [
        "# **88. Merge Sorted Array**\n",
        "\n",
        "You are given two integer arrays nums1 and nums2, sorted in non-decreasing order, and two integers m and n, representing the number of elements in nums1 and nums2 respectively.\n",
        "\n",
        "Merge nums1 and nums2 into a single array sorted in non-decreasing order.\n",
        "\n",
        "The final sorted array should not be returned by the function, but instead be stored inside the array nums1. To accommodate this, nums1 has a length of m + n, where the first m elements denote the elements that should be merged, and the last n elements are set to 0 and should be ignored. nums2 has a length of n."
      ],
      "metadata": {
        "id": "bc-mHfIjhZoO"
      }
    },
    {
      "cell_type": "code",
      "execution_count": null,
      "metadata": {
        "id": "Eun2DDxyg1xi"
      },
      "outputs": [],
      "source": [
        "class Solution:\n",
        "    def merge(self, nums1: List[int], m: int, nums2: List[int], n: int) -> None:\n",
        "        \"\"\"\n",
        "        Do not return anything, modify nums1 in-place instead.\n",
        "        \"\"\"\n",
        "\n",
        "        del nums1[m:]\n",
        "        del nums2[n:]\n",
        "        nums1 += nums2\n",
        "        nums1.sort()"
      ]
    },
    {
      "cell_type": "markdown",
      "source": [
        "# **27. Remove Element**\n",
        "\n",
        "Given an integer array nums and an integer val, remove all occurrences of val in nums in-place. The order of the elements may be changed. Then return the number of elements in nums which are not equal to val.\n",
        "\n",
        "Consider the number of elements in nums which are not equal to val be k, to get accepted, you need to do the following things:\n",
        "\n",
        "Change the array nums such that the first k elements of nums contain the elements which are not equal to val. The remaining elements of nums are not important as well as the size of nums.\n",
        "Return k."
      ],
      "metadata": {
        "id": "J95OMRzsEElr"
      }
    },
    {
      "cell_type": "code",
      "source": [
        "class Solution:\n",
        "    def removeElement(self, nums: List[int], val: int) -> int:\n",
        "      while nums.count(val) != 0:\n",
        "        nums.remove(val)\n",
        "\n",
        "      return len(nums)"
      ],
      "metadata": {
        "id": "M4r1ZKJ7j0Oj"
      },
      "execution_count": null,
      "outputs": []
    },
    {
      "cell_type": "markdown",
      "source": [
        "# **26. Remove Duplicates from Sorted Array**\n",
        "\n",
        "Given an integer array nums sorted in non-decreasing order, remove the duplicates in-place such that each unique element appears only once. The relative order of the elements should be kept the same. Then return the number of unique elements in nums.\n",
        "\n",
        "Consider the number of unique elements of nums to be k, to get accepted, you need to do the following things:\n",
        "\n",
        "Change the array nums such that the first k elements of nums contain the unique elements in the order they were present in nums initially. The remaining elements of nums are not important as well as the size of nums.\n",
        "Return k."
      ],
      "metadata": {
        "id": "Yc0oIr0pO004"
      }
    },
    {
      "cell_type": "code",
      "source": [
        "class Solution:\n",
        "    def removeDuplicates(self, nums: List[int]) -> int:\n",
        "        for num in nums:\n",
        "            if nums.count(num) > 1:\n",
        "                while nums.count(num) != 1:\n",
        "                    nums.remove(num)\n",
        "\n",
        "        return len(nums)\n"
      ],
      "metadata": {
        "id": "QRcU7dVxO7R5"
      },
      "execution_count": null,
      "outputs": []
    },
    {
      "cell_type": "markdown",
      "source": [
        "# **80. Remove Duplicates from Sorted Array II**\n",
        "\n",
        "Given an integer array nums sorted in non-decreasing order, remove some duplicates in-place such that each unique element appears at most twice. The relative order of the elements should be kept the same.\n",
        "\n",
        "Since it is impossible to change the length of the array in some languages, you must instead have the result be placed in the first part of the array nums. More formally, if there are k elements after removing the duplicates, then the first k elements of nums should hold the final result. It does not matter what you leave beyond the first k elements.\n",
        "\n",
        "Return k after placing the final result in the first k slots of nums.\n",
        "\n",
        "Do not allocate extra space for another array. You must do this by modifying the input array in-place with O(1) extra memory."
      ],
      "metadata": {
        "id": "ZJnTyxJBT0nu"
      }
    },
    {
      "cell_type": "code",
      "source": [
        "class Solution:\n",
        "    def removeDuplicates(self, nums: List[int]) -> int:\n",
        "        for num in nums:\n",
        "            if nums.count(num) > 2:\n",
        "                while nums.count(num) != 2:\n",
        "                    nums.remove(num)\n",
        "\n",
        "        return len(nums)"
      ],
      "metadata": {
        "id": "x_AGouIHT7TI"
      },
      "execution_count": null,
      "outputs": []
    },
    {
      "cell_type": "markdown",
      "source": [
        "# **169. Majority Element**\n",
        "\n",
        "Given an array nums of size n, return the majority element.\n",
        "\n",
        "The majority element is the element that appears more than ⌊n / 2⌋ times. You may assume that the majority element always exists in the array."
      ],
      "metadata": {
        "id": "x1T1WR0xWMcV"
      }
    },
    {
      "cell_type": "code",
      "source": [
        "class Solution:\n",
        "    def majorityElement(self, nums: List[int]) -> int:\n",
        "        count = 0\n",
        "        max = 0\n",
        "        for num in nums:\n",
        "            if count == 0:\n",
        "                max = num\n",
        "\n",
        "            if num == max:\n",
        "                count += 1\n",
        "            else:\n",
        "                count -= 1\n",
        "\n",
        "        return max\n"
      ],
      "metadata": {
        "id": "LtlVvxjjWRvl"
      },
      "execution_count": null,
      "outputs": []
    },
    {
      "cell_type": "markdown",
      "source": [
        "# **189. Rotate Array**\n",
        "\n",
        "Given an integer array nums, rotate the array to the right by k steps, where k is non-negative."
      ],
      "metadata": {
        "id": "fLiQ2o7-q3MO"
      }
    },
    {
      "cell_type": "code",
      "source": [
        "class Solution:\n",
        "    def rotate(self, nums: List[int], k: int) -> None:\n",
        "        \"\"\"\n",
        "        Do not return anything, modify nums in-place instead.\n",
        "        \"\"\"\n",
        "        for i in range(k):\n",
        "            a = nums[-1]\n",
        "            del nums[-1]\n",
        "            nums.insert(0, a)"
      ],
      "metadata": {
        "colab": {
          "base_uri": "https://localhost:8080/"
        },
        "id": "G3VOiaBYq3Xr",
        "outputId": "9553292d-5a94-47b9-842b-6e5d512dd2eb"
      },
      "execution_count": null,
      "outputs": [
        {
          "output_type": "stream",
          "name": "stdout",
          "text": [
            "[5, 6, 7, 1, 2, 3, 4]\n"
          ]
        }
      ]
    },
    {
      "cell_type": "markdown",
      "source": [
        "# **121. Best Time to Buy and Sell Stock**\n",
        "\n",
        "You are given an array prices where prices[i] is the price of a given stock on the ith day.\n",
        "\n",
        "You want to maximize your profit by choosing a single day to buy one stock and choosing a different day in the future to sell that stock.\n",
        "\n",
        "Return the maximum profit you can achieve from this transaction. If you cannot achieve any profit, return 0."
      ],
      "metadata": {
        "id": "Jva5yc57wosM"
      }
    },
    {
      "cell_type": "code",
      "source": [
        "class Solution:\n",
        "    def maxProfit(self, prices: List[int]) -> int:\n",
        "        profit = 0\n",
        "        min_price = max(prices)\n",
        "\n",
        "        for price in prices:\n",
        "            if price < min_price:\n",
        "                min_price = price\n",
        "            if price - min_price > profit:\n",
        "                profit = price - min_price\n",
        "\n",
        "        return profit"
      ],
      "metadata": {
        "colab": {
          "base_uri": "https://localhost:8080/"
        },
        "id": "f93SwxV-wwV8",
        "outputId": "32a886e4-4402-4922-b77c-a99cd5828d93"
      },
      "execution_count": null,
      "outputs": [
        {
          "output_type": "stream",
          "name": "stdout",
          "text": [
            "0\n"
          ]
        }
      ]
    },
    {
      "cell_type": "markdown",
      "source": [
        "# **122. Best Time to Buy and Sell Stock II**\n",
        "\n",
        "You are given an integer array prices where prices[i] is the price of a given stock on the ith day.\n",
        "\n",
        "On each day, you may decide to buy and/or sell the stock. You can only hold at most one share of the stock at any time. However, you can buy it then immediately sell it on the same day.\n",
        "\n",
        "Find and return the maximum profit you can achieve."
      ],
      "metadata": {
        "id": "Jm0IyNFBpfwe"
      }
    },
    {
      "cell_type": "code",
      "source": [
        "class Solution:\n",
        "    def maxProfit(self, prices: List[int]) -> int:\n",
        "        profit = 0\n",
        "\n",
        "        for i in range(len(prices) - 1):\n",
        "\n",
        "            if prices[i] < prices[i + 1]:\n",
        "                profit += prices[i + 1] - prices[i]\n",
        "\n",
        "        return profit"
      ],
      "metadata": {
        "id": "kxWhuvqypmME"
      },
      "execution_count": null,
      "outputs": []
    },
    {
      "cell_type": "markdown",
      "source": [
        "# **55. Jump Game**\n",
        "\n",
        "You are given an integer array nums. You are initially positioned at the array's first index, and each element in the array represents your maximum jump length at that position.\n",
        "\n",
        "Return true if you can reach the last index, or false otherwise."
      ],
      "metadata": {
        "id": "NEdjwsAgtETx"
      }
    },
    {
      "cell_type": "code",
      "source": [
        "class Solution:\n",
        "    def canJump(self, nums: List[int]) -> bool:\n",
        "        max = 0\n",
        "\n",
        "        for i in range(len(nums)):\n",
        "            if i + nums[i] > max:\n",
        "                max = i + nums[i]\n",
        "            if max >= len(nums) - 1:\n",
        "                return True\n",
        "            if nums[i] == 0 and i >= max:\n",
        "                return False"
      ],
      "metadata": {
        "id": "rqwHC7Z4tEmS"
      },
      "execution_count": null,
      "outputs": []
    },
    {
      "cell_type": "markdown",
      "source": [
        "# **45. Jump Game II**\n",
        "\n",
        "You are given a 0-indexed array of integers nums of length n. You are initially positioned at nums[0].\n",
        "\n",
        "Each element nums[i] represents the maximum length of a forward jump from index i. In other words, if you are at nums[i], you can jump to any nums[i + j] where:\n",
        "\n",
        "0 <= j <= nums[i] and\n",
        "i + j < n\n",
        "Return the minimum number of jumps to reach nums[n - 1]. The test cases are generated such that you can reach nums[n - 1]."
      ],
      "metadata": {
        "id": "pEWE6eGqFrmY"
      }
    },
    {
      "cell_type": "code",
      "source": [
        "class Solution:\n",
        "    def jump(self, nums: List[int]) -> int:\n",
        "        max_jump = 0\n",
        "        max_num = 0\n",
        "        count = 0\n",
        "\n",
        "        for i in range(len(nums) - 1):\n",
        "            max_num = max(max_num, i + nums[i])\n",
        "            if max_num >= len(nums) - 1:\n",
        "                count += 1\n",
        "                break\n",
        "            if i == max_jump:\n",
        "                count += 1\n",
        "                max_jump = max_num\n",
        "        return count"
      ],
      "metadata": {
        "id": "v5unMU8LFyBa"
      },
      "execution_count": null,
      "outputs": []
    },
    {
      "cell_type": "markdown",
      "source": [
        "# **274. H-Index**\n",
        "\n",
        "Given an array of integers citations where citations[i] is the number of citations a researcher received for their ith paper, return the researcher's h-index.\n",
        "\n",
        "According to the definition of h-index on Wikipedia: The h-index is defined as the maximum value of h such that the given researcher has published at least h papers that have each been cited at least h times."
      ],
      "metadata": {
        "id": "ieHo3HAk_VWs"
      }
    },
    {
      "cell_type": "code",
      "source": [
        "class Solution:\n",
        "    def hIndex(self, citations: List[int]) -> int:\n",
        "        citations.sort()\n",
        "\n",
        "        for i in range(len(citations)):\n",
        "            if citations[i] >= len(citations) - i:\n",
        "                return len(citations) - i\n",
        "\n",
        "        return 0\n"
      ],
      "metadata": {
        "id": "rhoYrpC9_eWy"
      },
      "execution_count": null,
      "outputs": []
    },
    {
      "cell_type": "markdown",
      "source": [
        "# **380. Insert Delete GetRandom O(1)**\n",
        "\n",
        "Implement the RandomizedSet class:\n",
        "\n",
        "RandomizedSet() Initializes the RandomizedSet object.\n",
        "bool insert(int val) Inserts an item val into the set if not present. Returns true if the item was not present, false otherwise.\n",
        "bool remove(int val) Removes an item val from the set if present. Returns true if the item was present, false otherwise.\n",
        "int getRandom() Returns a random element from the current set of elements (it's guaranteed that at least one element exists when this method is called). Each element must have the same probability of being returned.\n",
        "You must implement the functions of the class such that each function works in average O(1) time complexity."
      ],
      "metadata": {
        "id": "65cA2A_kIthK"
      }
    },
    {
      "cell_type": "code",
      "source": [
        "class RandomizedSet:\n",
        "\n",
        "    def __init__(self):\n",
        "        self.RandomizedSet = []\n",
        "\n",
        "    def insert(self, val: int) -> bool:\n",
        "        if val not in self.RandomizedSet:\n",
        "            self.RandomizedSet.append(val)\n",
        "            return True\n",
        "        else:\n",
        "            return False\n",
        "\n",
        "    def remove(self, val: int) -> bool:\n",
        "        if val in self.RandomizedSet:\n",
        "            self.RandomizedSet.remove(val)\n",
        "            return True\n",
        "        else:\n",
        "            return False\n",
        "\n",
        "    def getRandom(self) -> int:\n",
        "        return choice(self.RandomizedSet)\n",
        "\n",
        "\n",
        "\n",
        "# Your RandomizedSet object will be instantiated and called as such:\n",
        "# obj = RandomizedSet()\n",
        "# param_1 = obj.insert(val)\n",
        "# param_2 = obj.remove(val)\n",
        "# param_3 = obj.getRandom()"
      ],
      "metadata": {
        "id": "uo0T3Tv9z41c"
      },
      "execution_count": null,
      "outputs": []
    },
    {
      "cell_type": "markdown",
      "source": [
        "# **238. Product of Array Except Self**\n",
        "\n",
        "Given an integer array nums, return an array answer such that answer[i] is equal to the product of all the elements of nums except nums[i].\n",
        "\n",
        "The product of any prefix or suffix of nums is guaranteed to fit in a 32-bit integer.\n",
        "\n",
        "You must write an algorithm that runs in O(n) time and without using the division operation."
      ],
      "metadata": {
        "id": "qv1QZzvg4vno"
      }
    },
    {
      "cell_type": "code",
      "source": [
        "class Solution:\n",
        "    def productExceptSelf(self, nums: List[int]) -> List[int]:\n",
        "        answer = []\n",
        "\n",
        "        p = 1\n",
        "        for i in range(len(nums)):\n",
        "            answer.append(p)\n",
        "            p *= nums[i]\n",
        "\n",
        "        p = 1\n",
        "        for i in range(len(nums) - 1, -1, -1):\n",
        "            answer[i] *= p\n",
        "            p *= nums[i]\n",
        "\n",
        "        return answer"
      ],
      "metadata": {
        "id": "bwzpNGww47eN"
      },
      "execution_count": null,
      "outputs": []
    },
    {
      "cell_type": "markdown",
      "source": [
        "# **134. Gas Station**\n",
        "\n",
        "There are n gas stations along a circular route, where the amount of gas at the ith station is gas[i].\n",
        "\n",
        "You have a car with an unlimited gas tank and it costs cost[i] of gas to travel from the ith station to its next (i + 1)th station. You begin the journey with an empty tank at one of the gas stations.\n",
        "\n",
        "Given two integer arrays gas and cost, return the starting gas station's index if you can travel around the circuit once in the clockwise direction, otherwise return -1. If there exists a solution, it is guaranteed to be unique."
      ],
      "metadata": {
        "id": "MxxlV4mD93TT"
      }
    },
    {
      "cell_type": "code",
      "source": [
        "# Time Limit Exceeded\n",
        "\n",
        "class Solution:\n",
        "    def canCompleteCircuit(self, gas: List[int], cost: List[int]) -> int:\n",
        "        diff = [gas[i] - cost[i] for i in range(len(gas))]\n",
        "        pos = 0\n",
        "\n",
        "        for i in range(len(gas)):\n",
        "            currGas = 0\n",
        "\n",
        "            for j in range(len(gas)):\n",
        "                pos = (i + j) % len(gas)\n",
        "\n",
        "                currGas += diff[pos]\n",
        "\n",
        "                if currGas < 0:\n",
        "                    break\n",
        "\n",
        "            if currGas >= 0:\n",
        "                return i\n",
        "\n",
        "        return -1"
      ],
      "metadata": {
        "id": "r43G5969GU0U"
      },
      "execution_count": null,
      "outputs": []
    },
    {
      "cell_type": "code",
      "source": [
        "class Solution:\n",
        "    def canCompleteCircuit(self, gas: List[int], cost: List[int]) -> int:\n",
        "        n = len(gas)\n",
        "        diff = [gas[i] - cost[i] for i in range(n)]\n",
        "\n",
        "        if sum(diff) < 0:\n",
        "            return -1\n",
        "\n",
        "        start = 0\n",
        "        currGas = 0\n",
        "\n",
        "        for i in range(n):\n",
        "            currGas += diff[i]\n",
        "\n",
        "            if currGas < 0:\n",
        "                currGas = 0\n",
        "                start = i + 1\n",
        "\n",
        "        return start"
      ],
      "metadata": {
        "id": "GmAnn75tGcQX"
      },
      "execution_count": null,
      "outputs": []
    },
    {
      "cell_type": "markdown",
      "source": [
        "# **135. Candy**\n",
        "\n",
        "There are n children standing in a line. Each child is assigned a rating value given in the integer array ratings.\n",
        "\n",
        "You are giving candies to these children subjected to the following requirements:\n",
        "\n",
        "Each child must have at least one candy.\n",
        "Children with a higher rating get more candies than their neighbors.\n",
        "Return the minimum number of candies you need to have to distribute the candies to the children."
      ],
      "metadata": {
        "id": "LdXKBbdeXfzW"
      }
    },
    {
      "cell_type": "code",
      "source": [
        "class Solution:\n",
        "    def candy(self, ratings: List[int]) -> int:\n",
        "        num_children = len(ratings)\n",
        "        num_candy = num_children * [1] # amount of candy needed for each\n",
        "\n",
        "        for i in range(1, num_children):\n",
        "            if ratings[i] > ratings[i - 1]:\n",
        "                num_candy[i] = num_candy[i -1] + 1\n",
        "\n",
        "        for i in range(num_children - 1, 0, -1):\n",
        "            if ratings[i] < ratings[i - 1]:\n",
        "                num_candy[i - 1] = max(num_candy[i] + 1, num_candy[i - 1])\n",
        "\n",
        "        return sum(num_candy)"
      ],
      "metadata": {
        "id": "tRHgKh5Ft9bM"
      },
      "execution_count": null,
      "outputs": []
    },
    {
      "cell_type": "markdown",
      "source": [
        "# **42. Trapping Rain Water**\n",
        "\n",
        "Given n non-negative integers representing an elevation map where the width of each bar is 1, compute how much water it can trap after raining."
      ],
      "metadata": {
        "id": "BSh3Qid1rRwh"
      }
    },
    {
      "cell_type": "code",
      "source": [
        "class Solution:\n",
        "    def trap(self, height: List[int]) -> int:\n",
        "        if not height:\n",
        "            return 0\n",
        "\n",
        "        volume = 0\n",
        "        l, r = 0, len(height) - 1\n",
        "        lmax, rmax = height[l], height[r]\n",
        "\n",
        "        while l < r:\n",
        "            lmax, rmax = max(height[l], lmax), max(height[r], rmax)\n",
        "\n",
        "            if lmax <= rmax:\n",
        "                volume += lmax - height[l]\n",
        "                l += 1\n",
        "            else:\n",
        "                volume += rmax - height[r]\n",
        "                r -= 1\n",
        "\n",
        "        return volume"
      ],
      "metadata": {
        "id": "9xMhcRuOrdE1"
      },
      "execution_count": null,
      "outputs": []
    },
    {
      "cell_type": "markdown",
      "source": [
        "# **13. Roman to Integer**\n",
        "\n",
        "Roman numerals are represented by seven different symbols: I, V, X, L, C, D and M.\n",
        "\n",
        "Symbol       Value\n",
        "I             1\n",
        "V             5\n",
        "X             10\n",
        "L             50\n",
        "C             100\n",
        "D             500\n",
        "M             1000\n",
        "\n",
        "For example, 2 is written as II in Roman numeral, just two ones added together. 12 is written as XII, which is simply X + II. The number 27 is written as XXVII, which is XX + V + II.\n",
        "\n",
        "Roman numerals are usually written largest to smallest from left to right. However, the numeral for four is not IIII. Instead, the number four is written as IV. Because the one is before the five we subtract it making four. The same principle applies to the number nine, which is written as IX. There are six instances where subtraction is used:\n",
        "\n",
        "I can be placed before V (5) and X (10) to make 4 and 9.\n",
        "X can be placed before L (50) and C (100) to make 40 and 90.\n",
        "C can be placed before D (500) and M (1000) to make 400 and 900.\n",
        "Given a roman numeral, convert it to an integer."
      ],
      "metadata": {
        "id": "u1CjJeKD0r0x"
      }
    },
    {
      "cell_type": "code",
      "source": [
        "class Solution:\n",
        "    def romanToInt(self, s: str) -> int:\n",
        "        result = 0\n",
        "        convert = {'I':1, 'V':5, 'X':10, 'L':50, 'C':100, 'D':500, 'M':1000}\n",
        "        exception = {'IV':4, 'IX':9, 'XL':40, 'XC':90, 'CD':400, 'CM':900}\n",
        "\n",
        "        for expt in exception.keys():\n",
        "            if s.find(expt) != -1:\n",
        "                result += exception[expt]\n",
        "                s = s.replace(expt, '')\n",
        "\n",
        "        for i in range(len(s)):\n",
        "            result += convert[s[i]]\n",
        "\n",
        "        return result"
      ],
      "metadata": {
        "id": "ppXWPiX-00hs"
      },
      "execution_count": null,
      "outputs": []
    }
  ]
}